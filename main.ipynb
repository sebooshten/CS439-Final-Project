{
 "cells": [
  {
   "cell_type": "code",
   "execution_count": 1,
   "id": "5b6d25ae-5de2-42dc-bf97-209a46e9ea28",
   "metadata": {},
   "outputs": [],
   "source": [
    "# Imports\n",
    "import pandas as pd\n",
    "import seaborn as sns\n",
    "from matplotlib import pyplot as plt\n",
    "from sklearn.preprocessing import StandardScaler"
   ]
  },
  {
   "cell_type": "code",
   "execution_count": 2,
   "id": "a44c4898-bb41-42f4-96ff-2a8242c81304",
   "metadata": {},
   "outputs": [],
   "source": [
    "# Goal is to sort data by increasing rating and then plot some key data points and see if theres any correlation\n",
    "games = pd.read_csv('CS439_FinalProject/csgo_games.csv')"
   ]
  },
  {
   "cell_type": "code",
   "execution_count": 3,
   "id": "7ca42783-6a8f-436c-95e3-1648985c3eee",
   "metadata": {},
   "outputs": [],
   "source": [
    "# dont care about t1_world_rank, t1_h2h_win_perc\n",
    "drops = ['t1_world_rank', 't2_world_rank', 't1_h2h_win_perc', 't2_h2h_win_perc']\n",
    "games = games.drop(columns=drops)"
   ]
  },
  {
   "cell_type": "code",
   "execution_count": 4,
   "id": "9550d57b-4f75-4e7a-be8d-f779ff4c8831",
   "metadata": {},
   "outputs": [],
   "source": [
    "# Tidy the data and separate into a different table to analyze stats per player\n",
    "player_stats = [\n",
    "    \"rating\", \"impact\", \"kdr\", \"dmr\", \"kpr\", \"apr\", \"dpr\", \"spr\",\n",
    "    \"opk_ratio\", \"opk_rating\", \"multikill_perc\", \"clutch_win_perc\"]"
   ]
  },
  {
   "cell_type": "code",
   "execution_count": 5,
   "id": "5d7fd6d2-3aee-47eb-8996-7f0e7290b44b",
   "metadata": {},
   "outputs": [],
   "source": [
    "# restructure data to be team 1, team 2, players 1 2 3 4 5, and then the stats\n",
    "players = pd.melt(\n",
    "    games,\n",
    "    id_vars=[\"match_date\"],\n",
    "    value_vars=[f\"t{team}_player{i}_{stat}\" for team in [1, 2] for i in range(1, 6) for stat in player_stats],\n",
    "    var_name=\"player\",\n",
    "    value_name=\"value\")\n",
    "\n",
    "players[\"team\"] = players[\"player\"].str.extract(r\"t(\\d)_\")[0].astype(int)\n",
    "players[\"player_number\"] = players[\"player\"].str.extract(r\"player(\\d)_\")[0].astype(int)\n",
    "players[\"stat\"] = players[\"player\"].str.replace(r\"t\\d_player\\d_\", \"\", regex=True)\n",
    "\n",
    "players = players.pivot_table(\n",
    "    index=[\"match_date\", \"team\", \"player_number\"],\n",
    "    columns=\"stat\",\n",
    "    values=\"value\").reset_index()"
   ]
  },
  {
   "cell_type": "code",
   "execution_count": 6,
   "id": "e3c66547-2df9-4f56-b61e-7f093c6bfe95",
   "metadata": {},
   "outputs": [],
   "source": [
    "# Split based on teams if needed and create new updated csv\n",
    "team_1 = players[players[\"team\"] == 1].drop(columns='team')\n",
    "team_2 = players[players[\"team\"] == 2].drop(columns='team')\n",
    "\n",
    "players.to_csv('CS439_FinalProject/csgo_games_analysis.csv', index=False)"
   ]
  },
  {
   "cell_type": "code",
   "execution_count": null,
   "id": "e1030835-58e3-44ff-aec4-10cdaf93e07d",
   "metadata": {},
   "outputs": [],
   "source": [
    "# At this point we have all the stats that we want to see, and organized per player, so we can clearly compare rating vs performance\n",
    "# Heat map provides correlation between stats\n",
    "\n",
    "def plotCorrelation_between_Stats(df):\n",
    "    stats_correlation = df.drop(columns=['match_date', 'player_number', 'team']).corr()\n",
    "    plt.figure(figsize=(12, 10))\n",
    "    sns.heatmap(stats_correlation, annot=True, cmap='coolwarm', vmin=-1, vmax=1, fmt=\".2f\")\n",
    "    plt.title(\"Correlation Between Stats\")\n",
    "    plt.tight_layout()\n",
    "    plt.show()\n",
    "\n",
    "\n",
    "plotCorrelation_between_Stats(players)"
   ]
  },
  {
   "cell_type": "code",
   "execution_count": null,
   "id": "c7c836e7-806e-497e-be59-5728fc6ca428",
   "metadata": {},
   "outputs": [],
   "source": [
    "def plotRating_vs_Stats(df):\n",
    "    stats = [stat for stat in player_stats if stat != \"rating\"]\n",
    "    fig, axes = plt.subplots(nrows=3, ncols=4, figsize=(14, 12))\n",
    "    axes = axes.flatten()\n",
    "\n",
    "    for i, stat in enumerate(stats):\n",
    "        sns.regplot(x=\"rating\", y=stat, data=df, ax=axes[i], line_kws={'color': 'black'})\n",
    "\n",
    "        axes[i].set_title(stat.upper() + \" vs Rating\", fontsize=10, y=0.98)\n",
    "        axes[i].set_xlabel('Rating', fontsize=9)\n",
    "        axes[i].set_ylabel(stat, fontsize=9)\n",
    "\n",
    "    plt.tight_layout()\n",
    "    plt.show()\n",
    "\n",
    "\n",
    "plotRating_vs_Stats(players)"
   ]
  },
  {
   "cell_type": "code",
   "execution_count": null,
   "id": "cae79aff-e6da-46b0-b2dd-eae6f492c762",
   "metadata": {},
   "outputs": [],
   "source": [
    "def plotSkill_Grouping(df):\n",
    "    df['skill'] = pd.cut(df['rating'], bins=5, labels=['Very Low', 'Low', 'Medium', 'High', 'Very High'])\n",
    "\n",
    "    stats = [stat for stat in player_stats if stat != \"rating\"]\n",
    "    fig, axes = plt.subplots(nrows=3, ncols=4, figsize=(15, 12))\n",
    "    axes = axes.flatten()\n",
    "\n",
    "    for i, stat in enumerate(stats):\n",
    "        sns.boxplot(x='skill', y=stat, data=df, ax=axes[i])\n",
    "\n",
    "        axes[i].set_title(stat.upper() + \" by Rating Category\", fontsize=10)\n",
    "        axes[i].set_xlabel('Rating Category', fontsize=9)\n",
    "        axes[i].set_ylabel(stat, fontsize=9)\n",
    "        axes[i].tick_params(axis='x')\n",
    "\n",
    "    plt.tight_layout()\n",
    "    plt.show()\n",
    "\n",
    "\n",
    "plotSkill_Grouping(players)"
   ]
  },
  {
   "cell_type": "code",
   "execution_count": 10,
   "id": "0b66da7d-a37d-4284-999f-ac0632b8a06a",
   "metadata": {},
   "outputs": [],
   "source": [
    "# Also we can categorize players into roles based on high values of certain stats\n",
    "# Star player, Entry Fragger, Support, Flex (Well Rounded)\n",
    "playerRoles = {\n",
    "    \"Entry Fragger\": [\"opk_ratio\", \"opk_rating\"],\n",
    "    \"Support\": ['apr', 'spr'],\n",
    "    \"Flex\": ['kdr', 'apr'],\n",
    "    \"Star\": ['multikill_perc', 'kpr']}\n",
    "\n",
    "\n",
    "# Entry Fragger should have higher stats in the opening kill categories\n",
    "# Support should have higher stats in the assists and saving teamates\n",
    "# Flex should have a higher avg in kdr and apr together\n",
    "# Star player will have a lot of multi kills and kills per round"
   ]
  },
  {
   "cell_type": "code",
   "execution_count": 11,
   "id": "79d25116-cbb7-4569-9128-4beab32847f8",
   "metadata": {},
   "outputs": [],
   "source": [
    "def assignRoles(df):\n",
    "    roleStats = []\n",
    "    for stat in playerRoles.values():\n",
    "        roleStats.extend(stat)\n",
    "    roleStats = list(set(roleStats))\n",
    "\n",
    "    scaled = StandardScaler().fit_transform(df[roleStats])\n",
    "    scaledDf = pd.DataFrame(scaled, columns=roleStats, index=df.index)\n",
    "\n",
    "    roles = []\n",
    "    for index, _ in df.iterrows():\n",
    "        scores = {}\n",
    "        for role, stat in playerRoles.items():\n",
    "            scores[role] = scaledDf.loc[index, stat].mean()\n",
    "\n",
    "        topRole = max(scores.items(), key=lambda x: x[1])[0]\n",
    "        roles.append(topRole)\n",
    "\n",
    "    df = df.copy()\n",
    "    df['role'] = roles\n",
    "    return df\n",
    "\n",
    "newPlayers = assignRoles(players);"
   ]
  },
  {
   "cell_type": "code",
   "execution_count": null,
   "id": "cc9b87cc-4f97-4552-81e9-e0437620fe05",
   "metadata": {},
   "outputs": [],
   "source": [
    "def plotRoles_vs_Rating(df):\n",
    "    plt.figure(figsize=(12, 10))\n",
    "    sns.boxplot(x='role', y='rating', data=df)\n",
    "    plt.title('Roles vs Rating')\n",
    "    plt.tight_layout()\n",
    "    plt.show()\n",
    "\n",
    "    avgRoles = df.groupby('role')['rating'].mean().sort_values(ascending=False)\n",
    "\n",
    "    plt.figure(figsize=(12, 10))\n",
    "    sns.barplot(x=avgRoles.index, y=avgRoles.values)\n",
    "    plt.title('Average Rating by Role')\n",
    "    plt.tight_layout()\n",
    "    plt.show()\n",
    "\n",
    "\n",
    "plotRoles_vs_Rating(newPlayers)\n"
   ]
  }
 ],
 "metadata": {
  "kernelspec": {
   "display_name": "Python 3 (ipykernel)",
   "language": "python",
   "name": "python3"
  },
  "language_info": {
   "codemirror_mode": {
    "name": "ipython",
    "version": 3
   },
   "file_extension": ".py",
   "mimetype": "text/x-python",
   "name": "python",
   "nbconvert_exporter": "python",
   "pygments_lexer": "ipython3",
   "version": "3.12.7"
  }
 },
 "nbformat": 4,
 "nbformat_minor": 5
}
